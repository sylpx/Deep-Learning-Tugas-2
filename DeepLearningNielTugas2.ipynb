{
  "nbformat": 4,
  "nbformat_minor": 0,
  "metadata": {
    "colab": {
      "provenance": [],
      "gpuType": "T4",
      "cell_execution_strategy": "setup",
      "authorship_tag": "ABX9TyM21AS00Q7qR88/bEYTMIGa",
      "include_colab_link": true
    },
    "kernelspec": {
      "name": "python3",
      "display_name": "Python 3"
    },
    "language_info": {
      "name": "python"
    },
    "accelerator": "GPU"
  },
  "cells": [
    {
      "cell_type": "markdown",
      "metadata": {
        "id": "view-in-github",
        "colab_type": "text"
      },
      "source": [
        "<a href=\"https://colab.research.google.com/github/sylpx/Deep-Learning-Tugas-2/blob/main/DeepLearningNielTugas2.ipynb\" target=\"_parent\"><img src=\"https://colab.research.google.com/assets/colab-badge.svg\" alt=\"Open In Colab\"/></a>"
      ]
    },
    {
      "cell_type": "code",
      "source": [
        "# 1. Install dan import library\n",
        "!pip install gdown --quiet\n",
        "!pip install tensorflow --quiet\n",
        "\n",
        "import tensorflow as tf\n",
        "import gdown\n",
        "from tensorflow.keras.models import Sequential\n",
        "from tensorflow.keras.layers import Conv2D, MaxPooling2D, Flatten, Dense, Dropout\n",
        "from tensorflow.keras.preprocessing.image import ImageDataGenerator\n",
        "import zipfile\n",
        "import os\n",
        "import matplotlib.pyplot as plt"
      ],
      "metadata": {
        "id": "QYfsjhzCQhQ5"
      },
      "execution_count": 1,
      "outputs": []
    },
    {
      "cell_type": "code",
      "source": [
        "# 2. Upload dataset zip\n",
        "file_id = \"13OMC0kC0ibt-cqm1wfpchuV5LZUFHZAO\"\n",
        "url = f\"https://drive.google.com/uc?export=download&id={file_id}\"\n",
        "\n",
        "gdown.download(url, \"DATASETGAMBAR.zip\", quiet=False)"
      ],
      "metadata": {
        "id": "yywit9GuQi2m",
        "colab": {
          "base_uri": "https://localhost:8080/",
          "height": 128
        },
        "outputId": "a1c2ee0f-c0e4-4418-b793-fbfd67060b30"
      },
      "execution_count": 2,
      "outputs": [
        {
          "output_type": "stream",
          "name": "stderr",
          "text": [
            "Downloading...\n",
            "From (original): https://drive.google.com/uc?export=download&id=13OMC0kC0ibt-cqm1wfpchuV5LZUFHZAO\n",
            "From (redirected): https://drive.google.com/uc?export=download&id=13OMC0kC0ibt-cqm1wfpchuV5LZUFHZAO&confirm=t&uuid=5a0a98cc-5f1a-41ae-932c-84b123db9da1\n",
            "To: /content/DATASETGAMBAR.zip\n",
            "100%|██████████| 38.8M/38.8M [00:00<00:00, 49.1MB/s]\n"
          ]
        },
        {
          "output_type": "execute_result",
          "data": {
            "text/plain": [
              "'DATASETGAMBAR.zip'"
            ],
            "application/vnd.google.colaboratory.intrinsic+json": {
              "type": "string"
            }
          },
          "metadata": {},
          "execution_count": 2
        }
      ]
    },
    {
      "cell_type": "code",
      "source": [
        "# 3. Ekstrak dataset\n",
        "import zipfile\n",
        "\n",
        "with zipfile.ZipFile(\"DATASETGAMBAR.zip\", 'r') as zip_ref:\n",
        "    zip_ref.extractall(\"dataset\")"
      ],
      "metadata": {
        "id": "lk1aEGasQlLL"
      },
      "execution_count": 3,
      "outputs": []
    },
    {
      "cell_type": "code",
      "source": [
        "import shutil\n",
        "import random\n",
        "from pathlib import Path\n",
        "\n",
        "# Path awal dataset setelah diekstrak\n",
        "original_dataset_dir = Path(\"dataset/DATASET GAMBAR (resize)\")\n",
        "\n",
        "# Tujuan folder baru\n",
        "base_dir = Path(\"dataset/split_dataset\")\n",
        "train_dir = base_dir / \"train\"\n",
        "val_dir = base_dir / \"val\"\n",
        "test_dir = base_dir / \"test\"\n",
        "\n",
        "# Buat folder train, val, dan test\n",
        "for folder in [train_dir, val_dir, test_dir]:\n",
        "    folder.mkdir(parents=True, exist_ok=True)\n",
        "\n",
        "# Rasio split\n",
        "val_split = 0.2  # 20% untuk validasi\n",
        "test_split = 0.1 # 10% untuk testing\n",
        "\n",
        "# Untuk setiap kelas\n",
        "for class_dir in original_dataset_dir.iterdir():\n",
        "    if class_dir.is_dir():\n",
        "        images = list(class_dir.glob(\"*\"))\n",
        "        random.shuffle(images)\n",
        "\n",
        "        class_name = class_dir.name\n",
        "\n",
        "        # Hitung jumlah data\n",
        "        total = len(images)\n",
        "        val_count = int(total * val_split)\n",
        "        test_count = int(total * test_split)\n",
        "        train_count = total - val_count - test_count\n",
        "\n",
        "        # Bagi dataset\n",
        "        train_images = images[:train_count]\n",
        "        val_images = images[train_count:train_count+val_count]\n",
        "        test_images = images[train_count+val_count:]\n",
        "\n",
        "        # Buat subfolder kelas di masing-masing folder tujuan\n",
        "        for subset, subset_images in zip(\n",
        "            [train_dir, val_dir, test_dir],\n",
        "            [train_images, val_images, test_images]\n",
        "        ):\n",
        "            class_subset_dir = subset / class_name\n",
        "            class_subset_dir.mkdir(parents=True, exist_ok=True)\n",
        "            for img in subset_images:\n",
        "                shutil.copy(img, class_subset_dir)\n"
      ],
      "metadata": {
        "id": "sjiSdeQnf_ea"
      },
      "execution_count": 4,
      "outputs": []
    },
    {
      "cell_type": "code",
      "source": [
        "# 4. Definisikan path dataset\n",
        "data_dir = \"dataset/split_dataset\"\n",
        "img_width, img_height = 224, 224  # Ukuran yang lebih umum untuk CNN\n",
        "batch_size = 32"
      ],
      "metadata": {
        "id": "WsRlNobsQl3N"
      },
      "execution_count": 5,
      "outputs": []
    },
    {
      "cell_type": "code",
      "source": [
        "# 5. Preprocessing dan split dataset (train/validation)\n",
        "train_datagen = ImageDataGenerator(rescale=1./255)\n",
        "val_datagen = ImageDataGenerator(rescale=1./255)\n",
        "test_datagen = ImageDataGenerator(rescale=1./255)\n",
        "\n",
        "train_datagen = ImageDataGenerator(\n",
        "    rescale=1./255,\n",
        "    rotation_range=30,\n",
        "    width_shift_range=0.2,\n",
        "    height_shift_range=0.2,\n",
        "    zoom_range=0.2,\n",
        "    horizontal_flip=True,\n",
        "    vertical_flip=True,\n",
        "    brightness_range=[0.8,1.2],\n",
        "    fill_mode='nearest'\n",
        ")\n",
        "\n",
        "train_generator = train_datagen.flow_from_directory(\n",
        "    os.path.join(data_dir, 'train'),\n",
        "    target_size=(img_height, img_width),\n",
        "    batch_size=batch_size,\n",
        "    class_mode='categorical'\n",
        ")\n",
        "\n",
        "val_generator = val_datagen.flow_from_directory(\n",
        "    os.path.join(data_dir, 'val'),\n",
        "    target_size=(img_height, img_width),\n",
        "    batch_size=batch_size,\n",
        "    class_mode='categorical'\n",
        ")\n",
        "\n",
        "test_generator = test_datagen.flow_from_directory(\n",
        "    os.path.join(data_dir, 'test'),\n",
        "    target_size=(img_height, img_width),\n",
        "    batch_size=batch_size,\n",
        "    class_mode='categorical',\n",
        "    shuffle=False\n",
        ")\n"
      ],
      "metadata": {
        "id": "Yxmn4OK6Qn-f",
        "colab": {
          "base_uri": "https://localhost:8080/"
        },
        "outputId": "23f66bf6-28cf-4c3e-eabc-7f2b7cbbd524"
      },
      "execution_count": 6,
      "outputs": [
        {
          "output_type": "stream",
          "name": "stdout",
          "text": [
            "Found 840 images belonging to 4 classes.\n",
            "Found 240 images belonging to 4 classes.\n",
            "Found 120 images belonging to 4 classes.\n"
          ]
        }
      ]
    },
    {
      "cell_type": "code",
      "source": [
        "from sklearn.utils.class_weight import compute_class_weight\n",
        "import numpy as np\n",
        "\n",
        "# Hitung class weights\n",
        "class_weights = compute_class_weight('balanced',\n",
        "                                   classes=np.unique(train_generator.classes),\n",
        "                                   y=train_generator.classes)\n",
        "class_weights = dict(enumerate(class_weights))\n",
        "\n",
        "print(\"Class Weights:\", class_weights)"
      ],
      "metadata": {
        "colab": {
          "base_uri": "https://localhost:8080/"
        },
        "id": "DKYpEHK2vlAm",
        "outputId": "a24a6a7a-73c3-4d02-9843-63e521f501f4"
      },
      "execution_count": 7,
      "outputs": [
        {
          "output_type": "stream",
          "name": "stdout",
          "text": [
            "Class Weights: {0: np.float64(1.0), 1: np.float64(1.0), 2: np.float64(1.0), 3: np.float64(1.0)}\n"
          ]
        }
      ]
    },
    {
      "cell_type": "code",
      "source": [
        "# 6. Membangun model CNN\n",
        "from tensorflow.keras import Input\n",
        "from tensorflow.keras.models import Sequential\n",
        "from tensorflow.keras.layers import Conv2D, MaxPooling2D, Flatten, Dense, Dropout\n",
        "from tensorflow.keras.regularizers import l2\n",
        "\n",
        "model = Sequential([\n",
        "    Input(shape=(img_height, img_width, 3)),\n",
        "\n",
        "    Conv2D(32, (3,3), activation='relu'),\n",
        "    MaxPooling2D(2, 2),\n",
        "\n",
        "    Conv2D(64, (3,3), activation='relu'),\n",
        "    MaxPooling2D(2,2),\n",
        "\n",
        "    Conv2D(128, (3,3), activation='relu'),  # Layer baru\n",
        "    MaxPooling2D(2,2),\n",
        "\n",
        "    Dropout(0.4),  # Dropout lebih besar\n",
        "\n",
        "    Flatten(),\n",
        "    Dense(256, activation='relu', kernel_regularizer=l2(0.01)),  # Lebih banyak neuron + regularisasi\n",
        "    Dropout(0.5),\n",
        "\n",
        "    Dense(4, activation='softmax')\n",
        "])\n"
      ],
      "metadata": {
        "id": "Y8LJk7twQqEn"
      },
      "execution_count": 8,
      "outputs": []
    },
    {
      "cell_type": "code",
      "source": [
        "# 7. Kompilasi model\n",
        "from tensorflow.keras.optimizers import Adam\n",
        "\n",
        "model.compile(optimizer=Adam(learning_rate=0.0001),  # LR lebih kecil\n",
        "              loss='categorical_crossentropy',\n",
        "              metrics=['accuracy'])"
      ],
      "metadata": {
        "id": "w4lPYvwMQrva"
      },
      "execution_count": 9,
      "outputs": []
    },
    {
      "cell_type": "code",
      "source": [
        "# 8. Training model dengan EarlyStopping dan ModelCheckpoint\n",
        "from tensorflow.keras.callbacks import EarlyStopping, ModelCheckpoint, ReduceLROnPlateau\n",
        "\n",
        "callbacks = [\n",
        "    EarlyStopping(monitor='val_loss', patience=5, restore_best_weights=True),\n",
        "    ModelCheckpoint(\"best_model.keras\", monitor='val_accuracy', save_best_only=True),\n",
        "    ReduceLROnPlateau(monitor='val_loss', factor=0.2, patience=3, min_lr=1e-6)\n",
        "]\n",
        "\n",
        "epochs = 30  # Naikkan epoch karena ada early stopping\n",
        "history = model.fit(\n",
        "    train_generator,\n",
        "    epochs=epochs,\n",
        "    validation_data=val_generator,\n",
        "    callbacks=callbacks,\n",
        "    class_weight=class_weights  # Tambahkan ini\n",
        ")\n"
      ],
      "metadata": {
        "id": "Z8p1qe99QtSF",
        "colab": {
          "base_uri": "https://localhost:8080/"
        },
        "outputId": "4b38933c-fa76-471a-cb92-def0ac20a84b"
      },
      "execution_count": 10,
      "outputs": [
        {
          "output_type": "stream",
          "name": "stderr",
          "text": [
            "/usr/local/lib/python3.11/dist-packages/keras/src/trainers/data_adapters/py_dataset_adapter.py:121: UserWarning: Your `PyDataset` class should call `super().__init__(**kwargs)` in its constructor. `**kwargs` can include `workers`, `use_multiprocessing`, `max_queue_size`. Do not pass these arguments to `fit()`, as they will be ignored.\n",
            "  self._warn_if_super_not_called()\n"
          ]
        },
        {
          "output_type": "stream",
          "name": "stdout",
          "text": [
            "Epoch 1/30\n",
            "\u001b[1m27/27\u001b[0m \u001b[32m━━━━━━━━━━━━━━━━━━━━\u001b[0m\u001b[37m\u001b[0m \u001b[1m27s\u001b[0m 722ms/step - accuracy: 0.3783 - loss: 5.7787 - val_accuracy: 0.7333 - val_loss: 3.5720 - learning_rate: 1.0000e-04\n",
            "Epoch 2/30\n",
            "\u001b[1m27/27\u001b[0m \u001b[32m━━━━━━━━━━━━━━━━━━━━\u001b[0m\u001b[37m\u001b[0m \u001b[1m29s\u001b[0m 512ms/step - accuracy: 0.7765 - loss: 3.2539 - val_accuracy: 0.9125 - val_loss: 2.1696 - learning_rate: 1.0000e-04\n",
            "Epoch 3/30\n",
            "\u001b[1m27/27\u001b[0m \u001b[32m━━━━━━━━━━━━━━━━━━━━\u001b[0m\u001b[37m\u001b[0m \u001b[1m14s\u001b[0m 535ms/step - accuracy: 0.7982 - loss: 2.1795 - val_accuracy: 0.9250 - val_loss: 1.5459 - learning_rate: 1.0000e-04\n",
            "Epoch 4/30\n",
            "\u001b[1m27/27\u001b[0m \u001b[32m━━━━━━━━━━━━━━━━━━━━\u001b[0m\u001b[37m\u001b[0m \u001b[1m20s\u001b[0m 519ms/step - accuracy: 0.8830 - loss: 1.5661 - val_accuracy: 0.9583 - val_loss: 1.2317 - learning_rate: 1.0000e-04\n",
            "Epoch 5/30\n",
            "\u001b[1m27/27\u001b[0m \u001b[32m━━━━━━━━━━━━━━━━━━━━\u001b[0m\u001b[37m\u001b[0m \u001b[1m13s\u001b[0m 480ms/step - accuracy: 0.8738 - loss: 1.3430 - val_accuracy: 0.9542 - val_loss: 1.0278 - learning_rate: 1.0000e-04\n",
            "Epoch 6/30\n",
            "\u001b[1m27/27\u001b[0m \u001b[32m━━━━━━━━━━━━━━━━━━━━\u001b[0m\u001b[37m\u001b[0m \u001b[1m13s\u001b[0m 471ms/step - accuracy: 0.9015 - loss: 1.0817 - val_accuracy: 0.9583 - val_loss: 0.8733 - learning_rate: 1.0000e-04\n",
            "Epoch 7/30\n",
            "\u001b[1m27/27\u001b[0m \u001b[32m━━━━━━━━━━━━━━━━━━━━\u001b[0m\u001b[37m\u001b[0m \u001b[1m14s\u001b[0m 536ms/step - accuracy: 0.9160 - loss: 0.9364 - val_accuracy: 0.9708 - val_loss: 0.7366 - learning_rate: 1.0000e-04\n",
            "Epoch 8/30\n",
            "\u001b[1m27/27\u001b[0m \u001b[32m━━━━━━━━━━━━━━━━━━━━\u001b[0m\u001b[37m\u001b[0m \u001b[1m19s\u001b[0m 469ms/step - accuracy: 0.9111 - loss: 0.8187 - val_accuracy: 0.9708 - val_loss: 0.6429 - learning_rate: 1.0000e-04\n",
            "Epoch 9/30\n",
            "\u001b[1m27/27\u001b[0m \u001b[32m━━━━━━━━━━━━━━━━━━━━\u001b[0m\u001b[37m\u001b[0m \u001b[1m14s\u001b[0m 517ms/step - accuracy: 0.9263 - loss: 0.6953 - val_accuracy: 0.9750 - val_loss: 0.5683 - learning_rate: 1.0000e-04\n",
            "Epoch 10/30\n",
            "\u001b[1m27/27\u001b[0m \u001b[32m━━━━━━━━━━━━━━━━━━━━\u001b[0m\u001b[37m\u001b[0m \u001b[1m19s\u001b[0m 465ms/step - accuracy: 0.9276 - loss: 0.6323 - val_accuracy: 0.9667 - val_loss: 0.4984 - learning_rate: 1.0000e-04\n",
            "Epoch 11/30\n",
            "\u001b[1m27/27\u001b[0m \u001b[32m━━━━━━━━━━━━━━━━━━━━\u001b[0m\u001b[37m\u001b[0m \u001b[1m13s\u001b[0m 480ms/step - accuracy: 0.9261 - loss: 0.5899 - val_accuracy: 0.9750 - val_loss: 0.4507 - learning_rate: 1.0000e-04\n",
            "Epoch 12/30\n",
            "\u001b[1m27/27\u001b[0m \u001b[32m━━━━━━━━━━━━━━━━━━━━\u001b[0m\u001b[37m\u001b[0m \u001b[1m13s\u001b[0m 466ms/step - accuracy: 0.9300 - loss: 0.5247 - val_accuracy: 0.9750 - val_loss: 0.4055 - learning_rate: 1.0000e-04\n",
            "Epoch 13/30\n",
            "\u001b[1m27/27\u001b[0m \u001b[32m━━━━━━━━━━━━━━━━━━━━\u001b[0m\u001b[37m\u001b[0m \u001b[1m13s\u001b[0m 474ms/step - accuracy: 0.9360 - loss: 0.4975 - val_accuracy: 0.9625 - val_loss: 0.3924 - learning_rate: 1.0000e-04\n",
            "Epoch 14/30\n",
            "\u001b[1m27/27\u001b[0m \u001b[32m━━━━━━━━━━━━━━━━━━━━\u001b[0m\u001b[37m\u001b[0m \u001b[1m13s\u001b[0m 484ms/step - accuracy: 0.9514 - loss: 0.4275 - val_accuracy: 0.9667 - val_loss: 0.3578 - learning_rate: 1.0000e-04\n",
            "Epoch 15/30\n",
            "\u001b[1m27/27\u001b[0m \u001b[32m━━━━━━━━━━━━━━━━━━━━\u001b[0m\u001b[37m\u001b[0m \u001b[1m13s\u001b[0m 476ms/step - accuracy: 0.9375 - loss: 0.4374 - val_accuracy: 0.9667 - val_loss: 0.3435 - learning_rate: 1.0000e-04\n",
            "Epoch 16/30\n",
            "\u001b[1m27/27\u001b[0m \u001b[32m━━━━━━━━━━━━━━━━━━━━\u001b[0m\u001b[37m\u001b[0m \u001b[1m18s\u001b[0m 681ms/step - accuracy: 0.9306 - loss: 0.4441 - val_accuracy: 0.9792 - val_loss: 0.3044 - learning_rate: 1.0000e-04\n",
            "Epoch 17/30\n",
            "\u001b[1m27/27\u001b[0m \u001b[32m━━━━━━━━━━━━━━━━━━━━\u001b[0m\u001b[37m\u001b[0m \u001b[1m13s\u001b[0m 472ms/step - accuracy: 0.9489 - loss: 0.3929 - val_accuracy: 0.9708 - val_loss: 0.2899 - learning_rate: 1.0000e-04\n",
            "Epoch 18/30\n",
            "\u001b[1m27/27\u001b[0m \u001b[32m━━━━━━━━━━━━━━━━━━━━\u001b[0m\u001b[37m\u001b[0m \u001b[1m14s\u001b[0m 528ms/step - accuracy: 0.9538 - loss: 0.3660 - val_accuracy: 0.9833 - val_loss: 0.2577 - learning_rate: 1.0000e-04\n",
            "Epoch 19/30\n",
            "\u001b[1m27/27\u001b[0m \u001b[32m━━━━━━━━━━━━━━━━━━━━\u001b[0m\u001b[37m\u001b[0m \u001b[1m14s\u001b[0m 533ms/step - accuracy: 0.9541 - loss: 0.3319 - val_accuracy: 0.9917 - val_loss: 0.2482 - learning_rate: 1.0000e-04\n",
            "Epoch 20/30\n",
            "\u001b[1m27/27\u001b[0m \u001b[32m━━━━━━━━━━━━━━━━━━━━\u001b[0m\u001b[37m\u001b[0m \u001b[1m13s\u001b[0m 466ms/step - accuracy: 0.9427 - loss: 0.3556 - val_accuracy: 0.9458 - val_loss: 0.2881 - learning_rate: 1.0000e-04\n",
            "Epoch 21/30\n",
            "\u001b[1m27/27\u001b[0m \u001b[32m━━━━━━━━━━━━━━━━━━━━\u001b[0m\u001b[37m\u001b[0m \u001b[1m13s\u001b[0m 472ms/step - accuracy: 0.9316 - loss: 0.3558 - val_accuracy: 0.9625 - val_loss: 0.2487 - learning_rate: 1.0000e-04\n",
            "Epoch 22/30\n",
            "\u001b[1m27/27\u001b[0m \u001b[32m━━━━━━━━━━━━━━━━━━━━\u001b[0m\u001b[37m\u001b[0m \u001b[1m13s\u001b[0m 480ms/step - accuracy: 0.9582 - loss: 0.3066 - val_accuracy: 0.9875 - val_loss: 0.2178 - learning_rate: 1.0000e-04\n",
            "Epoch 23/30\n",
            "\u001b[1m27/27\u001b[0m \u001b[32m━━━━━━━━━━━━━━━━━━━━\u001b[0m\u001b[37m\u001b[0m \u001b[1m13s\u001b[0m 477ms/step - accuracy: 0.9444 - loss: 0.3033 - val_accuracy: 0.9792 - val_loss: 0.2254 - learning_rate: 1.0000e-04\n",
            "Epoch 24/30\n",
            "\u001b[1m27/27\u001b[0m \u001b[32m━━━━━━━━━━━━━━━━━━━━\u001b[0m\u001b[37m\u001b[0m \u001b[1m13s\u001b[0m 463ms/step - accuracy: 0.9493 - loss: 0.2927 - val_accuracy: 0.9667 - val_loss: 0.2304 - learning_rate: 1.0000e-04\n",
            "Epoch 25/30\n",
            "\u001b[1m27/27\u001b[0m \u001b[32m━━━━━━━━━━━━━━━━━━━━\u001b[0m\u001b[37m\u001b[0m \u001b[1m13s\u001b[0m 473ms/step - accuracy: 0.9404 - loss: 0.2989 - val_accuracy: 0.9792 - val_loss: 0.2074 - learning_rate: 1.0000e-04\n",
            "Epoch 26/30\n",
            "\u001b[1m27/27\u001b[0m \u001b[32m━━━━━━━━━━━━━━━━━━━━\u001b[0m\u001b[37m\u001b[0m \u001b[1m13s\u001b[0m 463ms/step - accuracy: 0.9452 - loss: 0.3006 - val_accuracy: 0.9750 - val_loss: 0.2075 - learning_rate: 1.0000e-04\n",
            "Epoch 27/30\n",
            "\u001b[1m27/27\u001b[0m \u001b[32m━━━━━━━━━━━━━━━━━━━━\u001b[0m\u001b[37m\u001b[0m \u001b[1m13s\u001b[0m 483ms/step - accuracy: 0.9454 - loss: 0.2849 - val_accuracy: 0.9708 - val_loss: 0.2206 - learning_rate: 1.0000e-04\n",
            "Epoch 28/30\n",
            "\u001b[1m27/27\u001b[0m \u001b[32m━━━━━━━━━━━━━━━━━━━━\u001b[0m\u001b[37m\u001b[0m \u001b[1m20s\u001b[0m 460ms/step - accuracy: 0.9567 - loss: 0.2670 - val_accuracy: 0.9917 - val_loss: 0.1871 - learning_rate: 1.0000e-04\n",
            "Epoch 29/30\n",
            "\u001b[1m27/27\u001b[0m \u001b[32m━━━━━━━━━━━━━━━━━━━━\u001b[0m\u001b[37m\u001b[0m \u001b[1m13s\u001b[0m 482ms/step - accuracy: 0.9525 - loss: 0.2597 - val_accuracy: 0.9833 - val_loss: 0.1872 - learning_rate: 1.0000e-04\n",
            "Epoch 30/30\n",
            "\u001b[1m27/27\u001b[0m \u001b[32m━━━━━━━━━━━━━━━━━━━━\u001b[0m\u001b[37m\u001b[0m \u001b[1m12s\u001b[0m 461ms/step - accuracy: 0.9486 - loss: 0.2818 - val_accuracy: 0.9792 - val_loss: 0.1900 - learning_rate: 1.0000e-04\n"
          ]
        }
      ]
    },
    {
      "cell_type": "code",
      "source": [
        "test_loss, test_accuracy = model.evaluate(test_generator)\n",
        "print(f\"Test Accuracy: {test_accuracy * 100:.2f}%\")"
      ],
      "metadata": {
        "id": "q3o-yZPRypyf",
        "colab": {
          "base_uri": "https://localhost:8080/"
        },
        "outputId": "fa333bd8-805c-4a4a-9208-3ee077f59322"
      },
      "execution_count": 11,
      "outputs": [
        {
          "output_type": "stream",
          "name": "stdout",
          "text": [
            "\u001b[1m4/4\u001b[0m \u001b[32m━━━━━━━━━━━━━━━━━━━━\u001b[0m\u001b[37m\u001b[0m \u001b[1m1s\u001b[0m 454ms/step - accuracy: 0.9852 - loss: 0.2150\n",
            "Test Accuracy: 99.17%\n"
          ]
        }
      ]
    },
    {
      "cell_type": "code",
      "source": [
        "# 9. Visualisasi akurasi dan loss\n",
        "plt.plot(history.history['accuracy'], label='Training Accuracy')\n",
        "plt.plot(history.history['val_accuracy'], label='Validation Accuracy')\n",
        "plt.legend()\n",
        "plt.title(\"Model Accuracy\")\n",
        "plt.xlabel(\"Epoch\")\n",
        "plt.ylabel(\"Accuracy\")\n",
        "plt.show()"
      ],
      "metadata": {
        "id": "A0jZ0xp3QvLR",
        "colab": {
          "base_uri": "https://localhost:8080/",
          "height": 472
        },
        "outputId": "9022f99c-a566-4d44-b32c-dc46e23b97a2"
      },
      "execution_count": 12,
      "outputs": [
        {
          "output_type": "display_data",
          "data": {
            "text/plain": [
              "<Figure size 640x480 with 1 Axes>"
            ],
            "image/png": "[encoded data removed]"
          },
          "metadata": {}
        }
      ]
    },
    {
      "cell_type": "code",
      "execution_count": 13,
      "metadata": {
        "id": "-FgRxPgapNyb",
        "colab": {
          "base_uri": "https://localhost:8080/"
        },
        "outputId": "9b80e3b4-a112-41cb-b71a-981a81cfba36"
      },
      "outputs": [
        {
          "output_type": "stream",
          "name": "stderr",
          "text": [
            "WARNING:absl:You are saving your model as an HDF5 file via `model.save()` or `keras.saving.save_model(model)`. This file format is considered legacy. We recommend using instead the native Keras format, e.g. `model.save('my_model.keras')` or `keras.saving.save_model(model, 'my_model.keras')`. \n"
          ]
        },
        {
          "output_type": "stream",
          "name": "stdout",
          "text": [
            "Model saved!\n"
          ]
        }
      ],
      "source": [
        "# 10. Simpan model\n",
        "model.save(\"model_klasifikasi_4kelas.h5\")\n",
        "print(\"Model saved!\")\n"
      ]
    }
  ]
}